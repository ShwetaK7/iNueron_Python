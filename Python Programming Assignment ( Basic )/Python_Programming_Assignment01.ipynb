{
  "nbformat": 4,
  "nbformat_minor": 0,
  "metadata": {
    "colab": {
      "provenance": []
    },
    "kernelspec": {
      "name": "python3",
      "display_name": "Python 3"
    },
    "language_info": {
      "name": "python"
    }
  },
  "cells": [
    {
      "cell_type": "markdown",
      "source": [
        "**Programming Assignment 01**"
      ],
      "metadata": {
        "id": "dwQOgmby2OjR"
      }
    },
    {
      "cell_type": "markdown",
      "source": [
        "1. Write a Python program to print \"Hello Python\"?"
      ],
      "metadata": {
        "id": "SMMzU63M2akY"
      }
    },
    {
      "cell_type": "code",
      "source": [
        "print(\"Hello Python\")"
      ],
      "metadata": {
        "colab": {
          "base_uri": "https://localhost:8080/"
        },
        "id": "A0truLgh2OEB",
        "outputId": "51fe58e9-8d6b-404b-bd17-51392a8c6f50"
      },
      "execution_count": null,
      "outputs": [
        {
          "output_type": "stream",
          "name": "stdout",
          "text": [
            "Hello Python\n"
          ]
        }
      ]
    },
    {
      "cell_type": "markdown",
      "source": [
        "**2.\tWrite a Python program to do arithmetical operations addition and division.?**"
      ],
      "metadata": {
        "id": "6LglTb5ttPwH"
      }
    },
    {
      "cell_type": "code",
      "execution_count": 5,
      "metadata": {
        "id": "vf_qu2Oe2Bvw",
        "colab": {
          "base_uri": "https://localhost:8080/"
        },
        "outputId": "88f5552d-1d21-4848-e24d-bcb97745547d"
      },
      "outputs": [
        {
          "output_type": "stream",
          "name": "stdout",
          "text": [
            "Enter a number: 200\n",
            "Enter a number: 60\n",
            "Select an operation from +, - , *, /\n",
            "Enter the operator: *\n",
            "Multiplication is =  12000\n"
          ]
        }
      ],
      "source": [
        "a = int(input(\"Enter a number: \"))\n",
        "b = int(input(\"Enter a number: \"))\n",
        "print(\"Select an operation from +, - , *, /\")\n",
        "operator = input(\"Enter the operator: \")\n",
        "operations = ['+', '-', '*', \"/\"]\n",
        "if operator in operations:\n",
        "  if operator == '+':\n",
        "    print(\"Addition is = \", a+b)\n",
        "  elif operator == '-':\n",
        "    print(\"Difference is = \", a-b)\n",
        "  elif operator == '*':\n",
        "    print(\"Multiplication is = \", a*b)\n",
        "  else:\n",
        "    print(\"Division is =\", a/b)\n",
        "else:\n",
        "  print(\"Enter a valid operation\")"
      ]
    },
    {
      "cell_type": "markdown",
      "source": [
        "**3.\tWrite a Python program to find the area of a triangle?**"
      ],
      "metadata": {
        "id": "7PwlEZ7yxRuJ"
      }
    },
    {
      "cell_type": "code",
      "source": [
        "b = int(input(\"Enter base: \" ))\n",
        "h = int(input(\"Enter height: \" ))\n",
        "area = 1/2 * b * h\n",
        "print(\"Area = \", area)"
      ],
      "metadata": {
        "colab": {
          "base_uri": "https://localhost:8080/"
        },
        "id": "gmcaodwuwOMu",
        "outputId": "b729c274-49a8-4c97-e161-54402a7e3aa4"
      },
      "execution_count": 8,
      "outputs": [
        {
          "output_type": "stream",
          "name": "stdout",
          "text": [
            "Enter base: 30\n",
            "Enter height: 15\n",
            "Area =  225.0\n"
          ]
        }
      ]
    },
    {
      "cell_type": "markdown",
      "source": [
        "**4.\tWrite a Python program to swap two variables?**"
      ],
      "metadata": {
        "id": "OBgxbLUDy1Nh"
      }
    },
    {
      "cell_type": "code",
      "source": [
        "a = int(input(\"Enter the first number: \"))\n",
        "b = int(input(\"Enter the second number: \"))\n",
        "print(\"Before swap: \", a, b)\n",
        "temp = b\n",
        "b = a\n",
        "a = temp\n",
        "print(\"After swap :\", a, b)"
      ],
      "metadata": {
        "colab": {
          "base_uri": "https://localhost:8080/"
        },
        "id": "t5T3VALcyJy3",
        "outputId": "e74a36b3-9883-4e1e-f02a-a8478d22df62"
      },
      "execution_count": 10,
      "outputs": [
        {
          "output_type": "stream",
          "name": "stdout",
          "text": [
            "Enter the first number: 10\n",
            "Enter the second number: 20\n",
            "Before swap:  10 20\n",
            "After swap : 20 10\n"
          ]
        }
      ]
    },
    {
      "cell_type": "markdown",
      "source": [
        "**5.\tWrite a Python program to generate a random number?**"
      ],
      "metadata": {
        "id": "5GqyX8Vn0ggp"
      }
    },
    {
      "cell_type": "code",
      "source": [
        "import random\n",
        "print(\"printing a random number\")\n",
        "r = random.random()\n",
        "print(r)\n",
        "print(\"Printing a random number in a range\")\n",
        "r1 = random.randint(1,50)\n",
        "print(r1)"
      ],
      "metadata": {
        "colab": {
          "base_uri": "https://localhost:8080/"
        },
        "id": "cEcUgDePzx7k",
        "outputId": "aafc4f53-c077-4d39-adfb-60c449ac91e9"
      },
      "execution_count": 18,
      "outputs": [
        {
          "output_type": "stream",
          "name": "stdout",
          "text": [
            "printing a random number\n",
            "0.2903544461962405\n",
            "Printing a random number in a range\n",
            "31\n"
          ]
        }
      ]
    }
  ]
}