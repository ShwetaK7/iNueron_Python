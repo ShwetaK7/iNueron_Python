{
  "nbformat": 4,
  "nbformat_minor": 0,
  "metadata": {
    "colab": {
      "provenance": []
    },
    "kernelspec": {
      "name": "python3",
      "display_name": "Python 3"
    },
    "language_info": {
      "name": "python"
    }
  },
  "cells": [
    {
      "cell_type": "markdown",
      "source": [
        "**Programming Assignment 02**"
      ],
      "metadata": {
        "id": "J-ETRyyU4jjV"
      }
    },
    {
      "cell_type": "markdown",
      "source": [
        "**1.\tWrite a Python program to convert kilometers to miles?**"
      ],
      "metadata": {
        "id": "PLk69oDh5EoA"
      }
    },
    {
      "cell_type": "code",
      "execution_count": null,
      "metadata": {
        "id": "t9QBjYDh4ch0",
        "colab": {
          "base_uri": "https://localhost:8080/"
        },
        "outputId": "0556cf75-ce7b-47bb-b1e0-06d0002b9465"
      },
      "outputs": [
        {
          "output_type": "stream",
          "name": "stdout",
          "text": [
            "Enter distance in kilometers: 5.6\n",
            "Distance in miles are:  3.4797738147020443\n"
          ]
        }
      ],
      "source": [
        "def converter(km):\n",
        "\n",
        "  miles = km / 1.6093\n",
        "  return miles\n",
        "\n",
        "km = float(input(\"Enter distance in kilometers: \"))\n",
        "miles = converter(km)\n",
        "print(\"Distance in miles are: \", miles)"
      ]
    },
    {
      "cell_type": "markdown",
      "source": [
        "**2.\tWrite a Python program to convert Celsius to Fahrenheit?**"
      ],
      "metadata": {
        "id": "NZ1UFWUu-VnU"
      }
    },
    {
      "cell_type": "code",
      "source": [
        "def converter(cel):\n",
        "  f = (cel *(9/5)) + 32\n",
        "  return f\n",
        "cel = float(input(\"Enter temperature in celsius: \"))\n",
        "fah = converter(cel)\n",
        "print(\"Temperature from {} Celsius to {} Fahnrenheit \".format(cel, fah))"
      ],
      "metadata": {
        "colab": {
          "base_uri": "https://localhost:8080/"
        },
        "id": "EB4rIkAV6AsJ",
        "outputId": "f6a7cfbb-0d85-4f53-8dd6-7ad8a7f5af1e"
      },
      "execution_count": null,
      "outputs": [
        {
          "output_type": "stream",
          "name": "stdout",
          "text": [
            "Enter temperature in celsius: 6\n",
            "Temperature from 6.0 Celsius to 42.8 Fahnrenheit \n"
          ]
        }
      ]
    },
    {
      "cell_type": "markdown",
      "source": [
        "**3.\tWrite a Python program to display calendar?**"
      ],
      "metadata": {
        "id": "wNaECyH3DF5e"
      }
    },
    {
      "cell_type": "code",
      "source": [
        "import calendar\n",
        "yy = int(input(\"Enter year in yyyy format: \"))\n",
        "print(calendar.calendar(yy))"
      ],
      "metadata": {
        "id": "BU2K2VtYARBp",
        "colab": {
          "base_uri": "https://localhost:8080/"
        },
        "outputId": "7cdce64a-0c6b-474b-99e3-c907e364d4dd"
      },
      "execution_count": 37,
      "outputs": [
        {
          "output_type": "stream",
          "name": "stdout",
          "text": [
            "Enter year in yyyy format: 2023\n",
            "                                  2023\n",
            "\n",
            "      January                   February                   March\n",
            "Mo Tu We Th Fr Sa Su      Mo Tu We Th Fr Sa Su      Mo Tu We Th Fr Sa Su\n",
            "                   1             1  2  3  4  5             1  2  3  4  5\n",
            " 2  3  4  5  6  7  8       6  7  8  9 10 11 12       6  7  8  9 10 11 12\n",
            " 9 10 11 12 13 14 15      13 14 15 16 17 18 19      13 14 15 16 17 18 19\n",
            "16 17 18 19 20 21 22      20 21 22 23 24 25 26      20 21 22 23 24 25 26\n",
            "23 24 25 26 27 28 29      27 28                     27 28 29 30 31\n",
            "30 31\n",
            "\n",
            "       April                      May                       June\n",
            "Mo Tu We Th Fr Sa Su      Mo Tu We Th Fr Sa Su      Mo Tu We Th Fr Sa Su\n",
            "                1  2       1  2  3  4  5  6  7                1  2  3  4\n",
            " 3  4  5  6  7  8  9       8  9 10 11 12 13 14       5  6  7  8  9 10 11\n",
            "10 11 12 13 14 15 16      15 16 17 18 19 20 21      12 13 14 15 16 17 18\n",
            "17 18 19 20 21 22 23      22 23 24 25 26 27 28      19 20 21 22 23 24 25\n",
            "24 25 26 27 28 29 30      29 30 31                  26 27 28 29 30\n",
            "\n",
            "        July                     August                  September\n",
            "Mo Tu We Th Fr Sa Su      Mo Tu We Th Fr Sa Su      Mo Tu We Th Fr Sa Su\n",
            "                1  2          1  2  3  4  5  6                   1  2  3\n",
            " 3  4  5  6  7  8  9       7  8  9 10 11 12 13       4  5  6  7  8  9 10\n",
            "10 11 12 13 14 15 16      14 15 16 17 18 19 20      11 12 13 14 15 16 17\n",
            "17 18 19 20 21 22 23      21 22 23 24 25 26 27      18 19 20 21 22 23 24\n",
            "24 25 26 27 28 29 30      28 29 30 31               25 26 27 28 29 30\n",
            "31\n",
            "\n",
            "      October                   November                  December\n",
            "Mo Tu We Th Fr Sa Su      Mo Tu We Th Fr Sa Su      Mo Tu We Th Fr Sa Su\n",
            "                   1             1  2  3  4  5                   1  2  3\n",
            " 2  3  4  5  6  7  8       6  7  8  9 10 11 12       4  5  6  7  8  9 10\n",
            " 9 10 11 12 13 14 15      13 14 15 16 17 18 19      11 12 13 14 15 16 17\n",
            "16 17 18 19 20 21 22      20 21 22 23 24 25 26      18 19 20 21 22 23 24\n",
            "23 24 25 26 27 28 29      27 28 29 30               25 26 27 28 29 30 31\n",
            "30 31\n",
            "\n"
          ]
        }
      ]
    },
    {
      "cell_type": "markdown",
      "source": [
        "**4.\tWrite a Python program to solve quadratic equation?**"
      ],
      "metadata": {
        "id": "TSGNoYJWIKFz"
      }
    },
    {
      "cell_type": "code",
      "source": [
        "import math\n",
        "print(\" Enter values of a, b,c in quadratic equation: \")\n",
        "a = int(input(\"Enter value of a: \"))\n",
        "b = int(input(\"Enter value of b: \"))\n",
        "c = int(input(\"Enter value of c: \"))\n",
        "def roots(a,b,c):\n",
        "  root1 = ((-b) + math.sqrt(b*b - (4* a * c))) / (2 * a)\n",
        "  root2 = ((-b) - math.sqrt(b*b - (4* a * c))) / (2 * a)\n",
        "  return root1, root2\n",
        "\n",
        "root1, root2 = roots(a,b,c)\n",
        "print(\"Roots of the Quadratic Equation are: \",root1, root2)\n"
      ],
      "metadata": {
        "colab": {
          "base_uri": "https://localhost:8080/"
        },
        "id": "L52bYhe-IP9y",
        "outputId": "98a59f40-9f9e-4dd8-b234-9704f84c304e"
      },
      "execution_count": 47,
      "outputs": [
        {
          "output_type": "stream",
          "name": "stdout",
          "text": [
            " Enter values of a, b,c in quadratic equation: \n",
            "Enter value of a: 1\n",
            "Enter value of b: -3\n",
            "Enter value of c: -4\n",
            "Roots of the Quadratic Equation are:  4.0 -1.0\n"
          ]
        }
      ]
    },
    {
      "cell_type": "markdown",
      "source": [
        "**5.\tWrite a Python program to swap two variables without temp variable?**"
      ],
      "metadata": {
        "id": "BXnLVCIyNMzj"
      }
    },
    {
      "cell_type": "code",
      "source": [
        "a = float(input(\"Enter first number: \"))\n",
        "b = float(input(\"Enter second number: \"))\n",
        "print(\"Before swap: \",a,b)\n",
        "\n",
        "a = a * b\n",
        "b = a / b\n",
        "a = a / b\n",
        "print(\"After swap: \", a,b)\n",
        "\n"
      ],
      "metadata": {
        "colab": {
          "base_uri": "https://localhost:8080/"
        },
        "id": "sTz4qBnYJ0e5",
        "outputId": "b92a2d10-d39f-412e-8b1a-25d40be5dea9"
      },
      "execution_count": 55,
      "outputs": [
        {
          "output_type": "stream",
          "name": "stdout",
          "text": [
            "Enter first number: 20\n",
            "Enter second number: 4\n",
            "Before swap:  20.0 4.0\n",
            "After swap:  4.0 20.0\n"
          ]
        }
      ]
    }
  ]
}