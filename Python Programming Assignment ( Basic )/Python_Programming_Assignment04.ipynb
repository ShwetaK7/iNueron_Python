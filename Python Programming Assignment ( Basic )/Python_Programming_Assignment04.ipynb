{
  "nbformat": 4,
  "nbformat_minor": 0,
  "metadata": {
    "colab": {
      "provenance": []
    },
    "kernelspec": {
      "name": "python3",
      "display_name": "Python 3"
    },
    "language_info": {
      "name": "python"
    }
  },
  "cells": [
    {
      "cell_type": "markdown",
      "source": [
        "**Python Programming Assignment 04**"
      ],
      "metadata": {
        "id": "S-X8lKphsxQk"
      }
    },
    {
      "cell_type": "markdown",
      "source": [
        "**1.\tWrite a Python Program to Find the Factorial of a Number?**"
      ],
      "metadata": {
        "id": "tACmYkwyuTmR"
      }
    },
    {
      "cell_type": "code",
      "execution_count": null,
      "metadata": {
        "colab": {
          "base_uri": "https://localhost:8080/"
        },
        "id": "1z6czDYmsdhl",
        "outputId": "5b17c515-9c9b-4780-befc-bda5a3e1c469"
      },
      "outputs": [
        {
          "output_type": "stream",
          "name": "stdout",
          "text": [
            "Enter number: 6\n",
            "Factorial of 6 is 720\n"
          ]
        }
      ],
      "source": [
        "def fact(n):\n",
        "    if n == 1 or n == 0:\n",
        "      return 1\n",
        "\n",
        "    else:\n",
        "      return (n * fact(n-1))\n",
        "\n",
        "\n",
        "n = int(input(\"Enter number: \"))\n",
        "factorial = fact(n)\n",
        "print(f\"Factorial of {n} is\", factorial)"
      ]
    },
    {
      "cell_type": "markdown",
      "source": [
        "**2.\tWrite a Python Program to Display the multiplication Table?**"
      ],
      "metadata": {
        "id": "Htz-r4oky_q_"
      }
    },
    {
      "cell_type": "code",
      "source": [
        "def multiply(n):\n",
        "  for i in range(1, 11):\n",
        "    print(f\"{n} * {i} = \", i*n)\n",
        "\n",
        "n = int(input(\"Enter a number: \"))\n",
        "multiply(n)"
      ],
      "metadata": {
        "colab": {
          "base_uri": "https://localhost:8080/"
        },
        "id": "IF23IkwCxcJW",
        "outputId": "85ce20fd-1741-4d51-8906-9c6ea347bfd0"
      },
      "execution_count": null,
      "outputs": [
        {
          "output_type": "stream",
          "name": "stdout",
          "text": [
            "Enter a number: 5\n",
            "5 * 1 =  5\n",
            "5 * 2 =  10\n",
            "5 * 3 =  15\n",
            "5 * 4 =  20\n",
            "5 * 5 =  25\n",
            "5 * 6 =  30\n",
            "5 * 7 =  35\n",
            "5 * 8 =  40\n",
            "5 * 9 =  45\n",
            "5 * 10 =  50\n"
          ]
        }
      ]
    },
    {
      "cell_type": "markdown",
      "source": [
        "\n",
        "**3.\tWrite a Python Program to Print the Fibonacci sequence?**"
      ],
      "metadata": {
        "id": "ggnxMpak8aJi"
      }
    },
    {
      "cell_type": "code",
      "source": [
        "\n",
        "def fibonacci(num):\n",
        "  n1 = 0\n",
        "  n2 = 1\n",
        "  count = 0\n",
        "  if num <= 0:\n",
        "    print(\"Enter a positive number\")\n",
        "\n",
        "  elif num == 1:\n",
        "    print(\"0\")\n",
        "\n",
        "  else:\n",
        "    while count < num:\n",
        "      print(n1)\n",
        "      n3 = n1 + n2\n",
        "      n1 = n2\n",
        "      n2 = n3\n",
        "      count = count +1\n",
        "\n",
        "num = int(input(\"Enter a number: \"))\n",
        "fibonacci(num)"
      ],
      "metadata": {
        "id": "DG0-DFEIzq9a",
        "colab": {
          "base_uri": "https://localhost:8080/"
        },
        "outputId": "604b1ba7-f045-47d3-d9d8-609dc2746127"
      },
      "execution_count": 7,
      "outputs": [
        {
          "output_type": "stream",
          "name": "stdout",
          "text": [
            "Enter a number: 7\n",
            "0\n",
            "1\n",
            "1\n",
            "2\n",
            "3\n",
            "5\n",
            "8\n"
          ]
        }
      ]
    },
    {
      "cell_type": "markdown",
      "source": [
        "**4.\tWrite a Python Program to Check Armstrong Number?**"
      ],
      "metadata": {
        "id": "XrmRK5f0i0ZV"
      }
    },
    {
      "cell_type": "code",
      "source": [
        "num = int((input(\"Enter a number: \")))\n",
        "sum = 0\n",
        "temp = num\n",
        "\n",
        "while temp > 0:\n",
        "   digit = temp % 10\n",
        "   sum = sum + (digit ** 3)\n",
        "   temp //= 10\n",
        "\n",
        "if num == sum:\n",
        "  print(f\"Entered number {num} is a Armstrong number!\")\n",
        "else:\n",
        "  print(f\"Entered number {num} is not a Armstrong number!\")\n"
      ],
      "metadata": {
        "colab": {
          "base_uri": "https://localhost:8080/"
        },
        "id": "5W6OODGmhExg",
        "outputId": "626a8b31-2f5d-4dad-cc22-2129ef0025b2"
      },
      "execution_count": 22,
      "outputs": [
        {
          "output_type": "stream",
          "name": "stdout",
          "text": [
            "Enter a number: 407\n",
            "Entered number 407 is a Armstrong number!\n"
          ]
        }
      ]
    },
    {
      "cell_type": "markdown",
      "source": [
        "**5.\tWrite a Python Program to Find Armstrong Number in an Interval?**"
      ],
      "metadata": {
        "id": "2yXTX1YynKq3"
      }
    },
    {
      "cell_type": "code",
      "source": [
        "def armstrong(num, armstrong_list):\n",
        "    sum = 0\n",
        "    for char in range(len(num)):\n",
        "        sum = sum + pow(int(num[char]),3)\n",
        "    if sum == int(num):\n",
        "        armstrong_list.append(int(num))\n",
        "\n",
        "start = int(input(\"Enter start of the Interval: \"))\n",
        "end= int(input(\"Enter end of the Interval: \"))\n",
        "list = []\n",
        "\n",
        "if start > end:\n",
        "    print(\"Start Interval Cannot be Greater than End Interval\")\n",
        "else:\n",
        "    for number in range(start,end+1):\n",
        "        armstrong(str(number),list)\n",
        "    print(f'Armstrong numbers from {start} to {end} are {list}')"
      ],
      "metadata": {
        "colab": {
          "base_uri": "https://localhost:8080/"
        },
        "id": "t_vbpRKVyrCL",
        "outputId": "5fe02fea-5541-466b-e38b-2026ebb57dab"
      },
      "execution_count": 42,
      "outputs": [
        {
          "output_type": "stream",
          "name": "stdout",
          "text": [
            "Enter start of the Interval: 1\n",
            "Enter end of the Interval: 1000\n",
            "Armstrong numbers from 1 to 1000 are [1, 153, 370, 371, 407]\n"
          ]
        }
      ]
    },
    {
      "cell_type": "markdown",
      "source": [
        "**6.\tWrite a Python Program to Find the Sum of Natural Numbers?**"
      ],
      "metadata": {
        "id": "am37rzwh0WQ8"
      }
    },
    {
      "cell_type": "code",
      "source": [
        "def sum(num):\n",
        "  s = 0\n",
        "  n = num\n",
        "  while num > 0:\n",
        "    s = s + num\n",
        "    num = num - 1\n",
        "  print(f\"Sum of {n} natural number is\",s)\n",
        "num= int(input(\"Enter a number: \"))\n",
        "sum(num)"
      ],
      "metadata": {
        "colab": {
          "base_uri": "https://localhost:8080/"
        },
        "id": "40BGuYX70913",
        "outputId": "bb9c4e2c-621c-470d-9335-5118de2efeb3"
      },
      "execution_count": 52,
      "outputs": [
        {
          "output_type": "stream",
          "name": "stdout",
          "text": [
            "Enter a number: 50\n",
            "Sum of 50 natural number is 1275\n"
          ]
        }
      ]
    }
  ]
}