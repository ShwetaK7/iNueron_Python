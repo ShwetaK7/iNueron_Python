{
  "cells": [
    {
      "cell_type": "markdown",
      "metadata": {
        "id": "m7ADUkLYImXb"
      },
      "source": [
        "**Python Programming Assignment 05**"
      ]
    },
    {
      "cell_type": "markdown",
      "metadata": {
        "id": "OzT0ZoA0I6WS"
      },
      "source": [
        "**1.\tWrite a Python Program to Find LCM?**"
      ]
    },
    {
      "cell_type": "code",
      "execution_count": null,
      "metadata": {
        "colab": {
          "base_uri": "https://localhost:8080/"
        },
        "id": "veWFwIcwH94g",
        "outputId": "65a76b01-cc27-49ed-c863-b59ea52143c3"
      },
      "outputs": [
        {
          "name": "stdout",
          "output_type": "stream",
          "text": [
            "Enter first number: 2\n",
            "Enter second number: 3\n"
          ]
        },
        {
          "data": {
            "text/plain": [
              "6"
            ]
          },
          "execution_count": 14,
          "metadata": {},
          "output_type": "execute_result"
        }
      ],
      "source": [
        "def lcm(a, b):\n",
        "    if a > b:\n",
        "        greater = a\n",
        "    else:\n",
        "        greater = b\n",
        "    while(True):\n",
        "        if((greater % a == 0) and (greater % b == 0)):\n",
        "            lcm = greater\n",
        "            break\n",
        "        greater += 1\n",
        "    return lcm\n",
        "\n",
        "a = int(input(\"Enter first number: \"))\n",
        "b = int(input(\"Enter second number: \"))\n",
        "lcm(a, b)\n"
      ]
    },
    {
      "cell_type": "markdown",
      "metadata": {
        "id": "7Onwfgcu3OgE"
      },
      "source": [
        "**2.\tWrite a Python Program to Find HCF?**"
      ]
    },
    {
      "cell_type": "code",
      "execution_count": null,
      "metadata": {
        "colab": {
          "base_uri": "https://localhost:8080/"
        },
        "id": "5zlhOrb5JcTP",
        "outputId": "d6d03d91-32aa-44c5-f355-bb5896496675"
      },
      "outputs": [
        {
          "name": "stdout",
          "output_type": "stream",
          "text": [
            "Enter first number: 54\n",
            "Enter second number: 24\n"
          ]
        },
        {
          "data": {
            "text/plain": [
              "6"
            ]
          },
          "execution_count": 15,
          "metadata": {},
          "output_type": "execute_result"
        }
      ],
      "source": [
        "def hcf(x, y):\n",
        "\n",
        "    if x > y:\n",
        "        smaller = y\n",
        "    else:\n",
        "        smaller = x\n",
        "    for i in range(1, smaller+1):\n",
        "        if((x % i == 0) and (y % i == 0)):\n",
        "            hcf = i\n",
        "    return hcf\n",
        "\n",
        "x = int(input(\"Enter first number: \"))\n",
        "y = int(input(\"Enter second number: \"))\n",
        "hcf(x, y)"
      ]
    },
    {
      "cell_type": "markdown",
      "metadata": {
        "id": "IMixfMe5CIyz"
      },
      "source": [
        "**3.\tWrite a Python Program to Convert Decimal to Binary, Octal and Hexadecimal?**"
      ]
    },
    {
      "cell_type": "code",
      "execution_count": null,
      "metadata": {
        "colab": {
          "base_uri": "https://localhost:8080/"
        },
        "id": "gbYTia4VJ3eI",
        "outputId": "d5806608-f21e-4329-8d08-b4528fde540f"
      },
      "outputs": [
        {
          "name": "stdout",
          "output_type": "stream",
          "text": [
            "Enter a number: 555\n",
            "Conversion from decimal 555 to Binary is  0b1000101011\n",
            "Conversion from decimal 555 to Octal is  0o1053\n",
            "Conversion from decimal 555 to Hexadecimal is  0x22b\n"
          ]
        }
      ],
      "source": [
        "def convert(num):\n",
        "  print(f\"Conversion from decimal {num} to Binary is \", bin(num))\n",
        "  print(f\"Conversion from decimal {num} to Octal is \", oct(num))\n",
        "  print(f\"Conversion from decimal {num} to Hexadecimal is \", hex(num))\n",
        "\n",
        "num = int(input(\"Enter a number: \"))\n",
        "convert(num)"
      ]
    },
    {
      "cell_type": "markdown",
      "metadata": {
        "id": "3KiHkqlCKazK"
      },
      "source": [
        "**4.\tWrite a Python Program To Find ASCII value of a character?**"
      ]
    },
    {
      "cell_type": "code",
      "execution_count": null,
      "metadata": {
        "colab": {
          "base_uri": "https://localhost:8080/"
        },
        "id": "uVetSMv_C5DA",
        "outputId": "9acb865f-4bab-4b6c-a432-fbd71db69c59"
      },
      "outputs": [
        {
          "name": "stdout",
          "output_type": "stream",
          "text": [
            "Enter a character: J\n",
            "ASCII value of J is  74\n"
          ]
        }
      ],
      "source": [
        "def ascii(ch):\n",
        "\n",
        "  if len(ch) > 1:\n",
        "    print(\"Enter a single chatacter!\")\n",
        "  else:\n",
        "\n",
        "    print(f\"ASCII value of {ch} is \", ord(ch))\n",
        "\n",
        "ch = input(\"Enter a character: \")\n",
        "\n",
        "ascii(ch)"
      ]
    },
    {
      "cell_type": "markdown",
      "metadata": {
        "id": "Q2EQ2GYMQ0pF"
      },
      "source": [
        "**5.\tWrite a Python Program to Make a Simple Calculator with 4 basic mathematical operations?**"
      ]
    },
    {
      "cell_type": "code",
      "execution_count": 2,
      "metadata": {
        "colab": {
          "base_uri": "https://localhost:8080/"
        },
        "id": "QfxCFp5SSGB9",
        "outputId": "fb827197-ffe9-4434-96ee-a4aa0b843ef8"
      },
      "outputs": [
        {
          "output_type": "stream",
          "name": "stdout",
          "text": [
            "Enter first number: 16\n",
            "Enter second number: 9\n",
            "Select a Arithmetic Operation:\n",
            "1.Addition(+) \n",
            "2.Division(-) \n",
            "2.Multiplication(*) \n",
            "4.Division(/)\n",
            "Enter an operation: *\n",
            "Multiplication of 16, 9 is  144\n"
          ]
        }
      ],
      "source": [
        "def cal(a,b, char):\n",
        "  while True:\n",
        "    if char == '+':\n",
        "      print(f\"Addition of {a}, {b} is \", a +b)\n",
        "      break\n",
        "    elif char == '-':\n",
        "      print(f\"Substraction of {a}, {b} is \", a - b)\n",
        "      break\n",
        "    elif char == '*':\n",
        "      print(f\"Multiplication of {a}, {b} is \", a * b)\n",
        "      break\n",
        "    elif char == '/':\n",
        "      print(f\"Division of {a}, {b} is \", a / b)\n",
        "      break\n",
        "a = int(input(\"Enter first number: \"))\n",
        "b = int(input(\"Enter second number: \"))\n",
        "print(\"Select a Arithmetic Operation:\\n1.Addition(+) \\n2.Division(-) \\n2.Multiplication(*) \\n4.Division(/)\")\n",
        "char = input(\"Enter an operation: \")\n",
        "cal(a,b, char)"
      ]
    }
  ],
  "metadata": {
    "colab": {
      "provenance": []
    },
    "kernelspec": {
      "display_name": "Python 3",
      "name": "python3"
    },
    "language_info": {
      "name": "python"
    }
  },
  "nbformat": 4,
  "nbformat_minor": 0
}